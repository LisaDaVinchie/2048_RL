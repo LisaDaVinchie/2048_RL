{
 "cells": [
  {
   "cell_type": "code",
   "execution_count": 10,
   "metadata": {},
   "outputs": [],
   "source": [
    "import numpy as np\n",
    "import matplotlib.pyplot as plt\n",
    "from pathlib import Path\n",
    "from agent_class import DQN_Agent\n",
    "from game_class import Game2048_env\n",
    "import torch as th\n",
    "import torch.nn as nn\n",
    "import torch.nn.functional as F\n",
    "import math\n",
    "from models import CNN_model\n",
    "from utils.representations import to_one_hot\n"
   ]
  },
  {
   "cell_type": "markdown",
   "metadata": {},
   "source": [
    "# Autoplay trained game"
   ]
  },
  {
   "cell_type": "code",
   "execution_count": 14,
   "metadata": {},
   "outputs": [],
   "source": [
    "n_games = 1000\n",
    "n_channels = 12\n",
    "\n",
    "device = th.device(\"cuda\" if th.cuda.is_available() else \"cpu\")\n",
    "\n",
    "model = CNN_model(params_path=\"params.json\", grid_size=4, action_size=4)\n",
    "\n",
    "model.to(device)\n",
    "\n",
    "model.load_state_dict(th.load(\"../data/weights/weights_171.pth\"))\n",
    "\n",
    "agent = DQN_Agent(params_path=\"params.json\", model = model, grid_size=4, action_size=4, epsilon = 0, epsilon_decay=0, epsilon_min=0)"
   ]
  },
  {
   "cell_type": "code",
   "execution_count": 19,
   "metadata": {},
   "outputs": [
    {
     "name": "stdout",
     "output_type": "stream",
     "text": [
      "Game 0 of 1000\n",
      "Game 100 of 1000\n",
      "Game 200 of 1000\n",
      "Game 300 of 1000\n",
      "Game 400 of 1000\n",
      "Game 500 of 1000\n",
      "Game 600 of 1000\n",
      "Game 700 of 1000\n",
      "Game 800 of 1000\n",
      "Game 900 of 1000\n"
     ]
    }
   ],
   "source": [
    "game = Game2048_env(4, n_channels=12)\n",
    "\n",
    "actions_taken = []\n",
    "final_scores = []\n",
    "max_values = []\n",
    "useless_moves = []\n",
    "valid_moves = []\n",
    "\n",
    "for i in range(n_games):\n",
    "    if i % 100 == 0:\n",
    "        print(f\"Game {i} of {n_games}\")\n",
    "    state = game.reset()\n",
    "    \n",
    "    game_over = False\n",
    "    non_valid_count, valid_count = 0, 0\n",
    "    max_value = 0\n",
    "    total_reward = 0\n",
    "    while not game_over:\n",
    "        enc_state = to_one_hot(state, n_channels)\n",
    "        action, _ = agent.choose_action(enc_state, training=False)\n",
    "        next_state, game_over, reward = game.step(state, action)\n",
    "        if game_over:\n",
    "            next_state = None\n",
    "        if np.array_equal(state, next_state) and not game_over:\n",
    "            non_valid_count += 1\n",
    "            k = 0\n",
    "            while np.array_equal(state, next_state) and k < 10:\n",
    "                k += 1\n",
    "                action, _ = agent.choose_action(enc_state, training=False)\n",
    "                next_state, game_over, reward = game.step(state, action)\n",
    "            \n",
    "            if k >= 10:\n",
    "                action = np.random.randint(0, 4)\n",
    "                next_state, game_over, reward = game.step(state, action)\n",
    "        else:\n",
    "            valid_count += 1\n",
    "        \n",
    "        total_reward += reward\n",
    "                \n",
    "        \n",
    "        actions_taken.append(action)\n",
    "            \n",
    "        new_max = np.max(next_state)\n",
    "        if new_max is not None and new_max > max_value:\n",
    "            max_value = new_max\n",
    "        \n",
    "        state = next_state\n",
    "\n",
    "    final_scores.append(total_reward)\n",
    "    max_values.append(max_value)\n",
    "    useless_moves.append(non_valid_count)\n",
    "    valid_moves.append(valid_count)"
   ]
  },
  {
   "cell_type": "code",
   "execution_count": 20,
   "metadata": {},
   "outputs": [],
   "source": [
    "log_max_values = np.log2(max_values)\n",
    "unique_maxvalues = np.unique(log_max_values)\n",
    "useless_moves_perc = np.array(useless_moves) / (np.array(useless_moves) + np.array(valid_moves))\n",
    "actions_taken = np.array(actions_taken)"
   ]
  },
  {
   "cell_type": "code",
   "execution_count": 21,
   "metadata": {},
   "outputs": [],
   "source": [
    "score_range = [np.min(final_scores), np.max(final_scores)]\n",
    "log_maxvalue_range = [np.min(log_max_values), np.max(log_max_values)]\n",
    "useless_moves_range = [np.min(useless_moves_perc), np.max(useless_moves_perc)]"
   ]
  },
  {
   "cell_type": "code",
   "execution_count": 22,
   "metadata": {},
   "outputs": [],
   "source": [
    "def plot_stats(scores, log_max_values_reached, useless_moves_ratio, game_actions, score_range, log_maxvalue_range, useless_moves_range):\n",
    "    fig, axs = plt.subplots(2, 2, figsize=(10, 10))\n",
    "\n",
    "    axs[0, 0].hist(scores, bins=20, density=True)\n",
    "    # axs[0, 0].set_xlim(score_range)\n",
    "    axs[0, 0].set_title(\"Final Scores\")\n",
    "    axs[0, 0].set_xlabel(\"Score\")\n",
    "    axs[0, 0].set_ylabel(\"Frequency\")\n",
    "    \n",
    "    unique_maxvalues = np.unique(log_max_values_reached)\n",
    "\n",
    "    axs[0, 1].hist(log_max_values_reached, bins=unique_maxvalues, density=True)\n",
    "    axs[0, 1].set_title(\"Log Max Values\")\n",
    "    axs[0, 1].set_xlabel(\"Log Max Value\")\n",
    "    # axs[0, 1].set_xticks(np.arange(0, log_maxvalue_range[1] + 1, 1))\n",
    "\n",
    "    axs[1, 0].hist(game_actions, bins=4, align=\"mid\", density=True)\n",
    "    axs[1, 0].set_title(\"Actions\")\n",
    "    axs[1, 0].set_xlabel(\"Action\")\n",
    "    axs[1, 0].set_xticks([0, 1, 2, 3])\n",
    "\n",
    "\n",
    "    axs[1, 1].hist(useless_moves_ratio, bins=20, density=True)\n",
    "    axs[1, 1].set_title(\"Useless Moves\")\n",
    "    axs[1, 1].set_xlabel(\"Percentage of Useless Moves\")\n",
    "    axs[1, 1].set_ylabel(\"Frequency\")"
   ]
  },
  {
   "cell_type": "markdown",
   "metadata": {},
   "source": [
    "# Random game"
   ]
  },
  {
   "cell_type": "code",
   "execution_count": 24,
   "metadata": {},
   "outputs": [
    {
     "name": "stdout",
     "output_type": "stream",
     "text": [
      "Game 0 of 1000\n",
      "Game 100 of 1000\n",
      "Game 200 of 1000\n",
      "Game 300 of 1000\n",
      "Game 400 of 1000\n",
      "Game 500 of 1000\n",
      "Game 600 of 1000\n",
      "Game 700 of 1000\n",
      "Game 800 of 1000\n",
      "Game 900 of 1000\n"
     ]
    }
   ],
   "source": [
    "game = Game2048_env(4, n_channels=12)\n",
    "\n",
    "actions_taken_r = []\n",
    "final_scores_r = []\n",
    "max_values_r = []\n",
    "useless_moves_r = []\n",
    "valid_moves_r = []\n",
    "\n",
    "\n",
    "\n",
    "game = Game2048_env(4, n_channels=12)\n",
    "\n",
    "for i in range(n_games):\n",
    "    if i % 100 == 0:\n",
    "        print(f\"Game {i} of {n_games}\")\n",
    "    state = game.reset()\n",
    "    \n",
    "    game_over = False\n",
    "    non_valid_count, valid_count = 0, 0\n",
    "    max_value = 0\n",
    "    total_reward = 0\n",
    "    while not game_over:\n",
    "        enc_state = to_one_hot(state, n_channels)\n",
    "        action = np.random.randint(0, 4)\n",
    "        next_state, game_over, reward = game.step(state, action)\n",
    "        if game_over:\n",
    "            next_state = None\n",
    "        if np.array_equal(state, next_state) and not game_over:\n",
    "            non_valid_count += 1\n",
    "            k = 0\n",
    "        else:\n",
    "            valid_count += 1\n",
    "        \n",
    "        total_reward += reward\n",
    "                \n",
    "        \n",
    "        actions_taken_r.append(action)\n",
    "            \n",
    "        new_max = np.max(next_state)\n",
    "        if new_max is not None and new_max > max_value:\n",
    "            max_value = new_max\n",
    "        \n",
    "        state = next_state\n",
    "\n",
    "    final_scores_r.append(total_reward)\n",
    "    max_values_r.append(max_value)\n",
    "    useless_moves_r.append(non_valid_count)\n",
    "    valid_moves_r.append(valid_count)"
   ]
  },
  {
   "cell_type": "code",
   "execution_count": 26,
   "metadata": {},
   "outputs": [
    {
     "data": {
      "text/plain": [
       "(5004, 3368)"
      ]
     },
     "execution_count": 26,
     "metadata": {},
     "output_type": "execute_result"
    }
   ],
   "source": [
    "max(final_scores), max(final_scores_r)"
   ]
  },
  {
   "cell_type": "code",
   "execution_count": 27,
   "metadata": {},
   "outputs": [],
   "source": [
    "log_max_values_r = np.log2(max_values_r)\n",
    "actions_taken_r = np.array(actions_taken_r).flatten()\n",
    "\n",
    "useless_moves_perc_r = np.array(useless_moves_r) / (np.array(useless_moves_r) + np.array(valid_moves_r))"
   ]
  },
  {
   "cell_type": "code",
   "execution_count": 28,
   "metadata": {},
   "outputs": [],
   "source": [
    "min_maxvalues = min(np.min(log_max_values), np.min(log_max_values_r))\n",
    "max_maxvalues = max(np.max(log_max_values), np.max(log_max_values_r))\n",
    "log_maxvalue_range = [min_maxvalues, max_maxvalues]\n",
    "\n",
    "min_score = min(np.min(final_scores), np.min(final_scores_r))\n",
    "max_score = max(np.max(final_scores), np.max(final_scores_r))\n",
    "score_range = [min_score, max_score]\n",
    "\n",
    "min_useless = min(np.min(useless_moves_perc), np.min(useless_moves_perc_r))\n",
    "max_useless = max(np.max(useless_moves_perc), np.max(useless_moves_perc_r))\n",
    "useless_moves_range = [min_useless, max_useless]"
   ]
  },
  {
   "cell_type": "code",
   "execution_count": 62,
   "metadata": {},
   "outputs": [
    {
     "data": {
      "image/png": "[encoded data removed]",
      "text/plain": [
       "<Figure size 640x480 with 1 Axes>"
      ]
     },
     "metadata": {},
     "output_type": "display_data"
    }
   ],
   "source": [
    "plt.hist(final_scores, bins=20, density=False, alpha=0.5, label=\"Agent\")\n",
    "plt.hist(final_scores_r, bins=20, density=False, alpha=0.5, label=\"Random\")\n",
    "plt.legend()\n",
    "plt.title(\"Final Scores\")\n",
    "plt.xlabel(\"Score\")\n",
    "plt.ylabel(\"Frequency\")\n",
    "plt.show()"
   ]
  },
  {
   "cell_type": "code",
   "execution_count": 53,
   "metadata": {},
   "outputs": [
    {
     "data": {
      "text/plain": [
       "(254.74799999999982, 23.221903782624846)"
      ]
     },
     "execution_count": 53,
     "metadata": {},
     "output_type": "execute_result"
    }
   ],
   "source": [
    "average_final_scores = np.mean(final_scores)\n",
    "average_final_scores_r = np.mean(final_scores_r)\n",
    "\n",
    "average_difference = average_final_scores - average_final_scores_r\n",
    "percentage_difference = (average_difference / average_final_scores_r) * 100\n",
    "\n",
    "average_difference, percentage_difference"
   ]
  },
  {
   "cell_type": "code",
   "execution_count": 46,
   "metadata": {},
   "outputs": [
    {
     "name": "stdout",
     "output_type": "stream",
     "text": [
      "Counter({128: 513, 64: 280, 256: 168, 32: 36, 512: 2, 16: 1})\n",
      "Counter({128: 484, 64: 362, 256: 82, 32: 66, 16: 6})\n"
     ]
    },
    {
     "data": {
      "text/plain": [
       "(None, None)"
      ]
     },
     "execution_count": 46,
     "metadata": {},
     "output_type": "execute_result"
    }
   ],
   "source": [
    "from collections import Counter\n",
    "\n",
    "max_values_counts = Counter(max_values)\n",
    "max_values_counts_r = Counter(max_values_r)\n",
    "print(max_values_counts), print(max_values_counts_r)"
   ]
  },
  {
   "cell_type": "code",
   "execution_count": 57,
   "metadata": {},
   "outputs": [
    {
     "data": {
      "image/png": "[encoded data removed]",
      "text/plain": [
       "<Figure size 640x480 with 1 Axes>"
      ]
     },
     "metadata": {},
     "output_type": "display_data"
    }
   ],
   "source": [
    "density = False\n",
    "\n",
    "plt.hist(log_max_values, bins = [3, 4, 5, 6, 7, 8, 9, 10], density=density, alpha=0.5, label=\"Agent\")\n",
    "plt.hist(log_max_values_r, bins=[3, 4, 5, 6, 7, 8, 9, 10], density=density, alpha=0.5, label=\"Random\")\n",
    "plt.legend()\n",
    "plt.title(\"Log Max Values\")\n",
    "plt.xlabel(\"Log Max Value\")\n",
    "plt.ylabel(\"Frequency\")\n",
    "plt.show()"
   ]
  },
  {
   "cell_type": "code",
   "execution_count": 54,
   "metadata": {},
   "outputs": [
    {
     "data": {
      "text/plain": [
       "(-0.09404636640253383, -60.315202948666254)"
      ]
     },
     "execution_count": 54,
     "metadata": {},
     "output_type": "execute_result"
    }
   ],
   "source": [
    "average_useless_moves_perc = np.mean(useless_moves_perc)\n",
    "average_useless_moves_perc_r = np.mean(useless_moves_perc_r)\n",
    "\n",
    "average_difference = average_useless_moves_perc - average_useless_moves_perc_r\n",
    "percentage_difference = (average_difference / average_useless_moves_perc_r) * 100\n",
    "\n",
    "average_difference, percentage_difference"
   ]
  },
  {
   "cell_type": "code",
   "execution_count": 58,
   "metadata": {},
   "outputs": [
    {
     "data": {
      "image/png": "[encoded data removed]",
      "text/plain": [
       "<Figure size 640x480 with 1 Axes>"
      ]
     },
     "metadata": {},
     "output_type": "display_data"
    }
   ],
   "source": [
    "plt.hist(useless_moves_perc, bins=20, density=density, alpha=0.5, label=\"Agent\")\n",
    "plt.hist(useless_moves_perc_r, bins=20, density=density, alpha=0.5, label=\"Random\")\n",
    "plt.legend()\n",
    "plt.title(\"Percentage of Useless Moves in a game\")\n",
    "plt.xlabel(\"Percentage of Useless Moves\")\n",
    "plt.ylabel(\"Frequency\")\n",
    "plt.show()"
   ]
  },
  {
   "cell_type": "code",
   "execution_count": 59,
   "metadata": {},
   "outputs": [
    {
     "data": {
      "image/png": "[encoded data removed]",
      "text/plain": [
       "<Figure size 640x480 with 1 Axes>"
      ]
     },
     "metadata": {},
     "output_type": "display_data"
    }
   ],
   "source": [
    "plt.hist(actions_taken, bins=4, align=\"mid\", density=density, alpha=0.5, label=\"Agent\")\n",
    "plt.hist(actions_taken_r, bins=4, align=\"mid\", density=density, alpha=0.5, label=\"Random\")\n",
    "plt.legend()\n",
    "plt.title(\"Actions\")\n",
    "plt.xlabel(\"Action\")\n",
    "plt.ylabel(\"Frequency\")\n",
    "plt.xticks([0, 1, 2, 3])\n",
    "plt.xticks([0, 1, 2, 3], ['Up', 'Down', 'Left', 'Right'])\n",
    "plt.show()"
   ]
  }
 ],
 "metadata": {
  "kernelspec": {
   "display_name": "venv2",
   "language": "python",
   "name": "python3"
  },
  "language_info": {
   "codemirror_mode": {
    "name": "ipython",
    "version": 3
   },
   "file_extension": ".py",
   "mimetype": "text/x-python",
   "name": "python",
   "nbconvert_exporter": "python",
   "pygments_lexer": "ipython3",
   "version": "3.11.11"
  }
 },
 "nbformat": 4,
 "nbformat_minor": 2
}
